{
  "nbformat_minor": 0, 
  "nbformat": 4, 
  "cells": [
    {
      "execution_count": null, 
      "cell_type": "code", 
      "source": [
        "%matplotlib inline"
      ], 
      "outputs": [], 
      "metadata": {
        "collapsed": false
      }
    }, 
    {
      "source": [
        "\nRegion Growing Segmentation\n===========================\n\nThresholding is the most basic form of segmentation. The first step of \nimprovement upon the naive thresholding is a class of algorithms called \nregion growing.\n\nThe common theme in this class of algorithms is that a voxel's\nneighbor is considered to be in the same class if its intensities are\nsimilar to the current voxel. The definition of similar is what varies.\nInitial set of voxel are called seed points. These initial seed points are \nusually manually selected. \n\nWe illustrate the use of three variants of this family of algorithms: \n\n- `ConnectedThreshold <http://www.itk.org/Doxygen/html/classitk_1_1ConnectedThresholdImageFilter.html>`_ \n- `ConfidenceConnected <http://www.itk.org/Doxygen/html/classitk_1_1ConfidenceConnectedImageFilter.html>`_ \n- `VectorConfidenceConnected <http://www.itk.org/Doxygen/html/classitk_1_1VectorConfidenceConnectedImageFilter.html>`_ \n\nWe will illustrate the usage of these three filters using a cranial MRI\nscan (T1 and T2) and attempt to segment one of the ventricles.\n\n"
      ], 
      "cell_type": "markdown", 
      "metadata": {}
    }, 
    {
      "execution_count": null, 
      "cell_type": "code", 
      "source": [
        "# License: CC-BY\n# sphinx_gallery_thumbnail_number = 4\n\nimport SimpleITK as sitk\nfrom myshow import myshow, myshow3d\nfrom downloaddata import fetch_data as fdata"
      ], 
      "outputs": [], 
      "metadata": {
        "collapsed": false
      }
    }, 
    {
      "source": [
        "Load Images\n-----------\n\n"
      ], 
      "cell_type": "markdown", 
      "metadata": {}
    }, 
    {
      "execution_count": null, 
      "cell_type": "code", 
      "source": [
        "img_T1 = sitk.ReadImage(\n    fdata(\"nac-hncma-atlas2013-Slicer4Version/Data/A1_grayT1.nrrd\"))\n\n# To visualize the labels image in RGB needs a image with 0-255 range\nimg_T1_255 = sitk.Cast(sitk.RescaleIntensity(img_T1), sitk.sitkUInt8)\n\nsize = img_T1.GetSize()\nmyshow3d(img_T1_255, zslices=range(50, size[2] - 50, 20), title='T1')"
      ], 
      "outputs": [], 
      "metadata": {
        "collapsed": false
      }
    }, 
    {
      "source": [
        "Seed selection\n--------------\n\nEarlier we used 3D Slicer to determine that index: (132,142,96) was a\ngood seed for the left lateral ventricle.\n\n"
      ], 
      "cell_type": "markdown", 
      "metadata": {}
    }, 
    {
      "execution_count": null, 
      "cell_type": "code", 
      "source": [
        "seed = (132, 142, 96)\n\nseg = sitk.Image(img_T1.GetSize(), sitk.sitkUInt8)\nseg.CopyInformation(img_T1)\nseg[seed] = 1\n\nseg = sitk.BinaryDilate(seg, 3)\n\nmyshow3d(sitk.LabelOverlay(img_T1_255, seg),\n         xslices=range(132, 133), yslices=range(142, 143),\n         zslices=range(96, 97), title=\"Initial Seed\")"
      ], 
      "outputs": [], 
      "metadata": {
        "collapsed": false
      }
    }, 
    {
      "source": [
        "Region Growing\n--------------\n Let's start with ``ConnectedThreshold``.\n\n``ConnectedThreshold``\n^^^^^^^^^^^^^^^^^^^^^^\nHere, voxel\u2019s neighbor is considered to be in the same class if the\nneighboring voxel\u2019s intensity is within explicitly specified thresholds.\n\nWe start by using explicitly specified thresholds, you should modify\nthese (lower/upper) to see the effects on the resulting segmentation.\n\n"
      ], 
      "cell_type": "markdown", 
      "metadata": {}
    }, 
    {
      "execution_count": null, 
      "cell_type": "code", 
      "source": [
        "seg_con = sitk.ConnectedThreshold(img_T1, seedList=[seed],\n                                  lower=100, upper=190)\n\nmyshow3d(sitk.LabelOverlay(img_T1_255, seg_con),\n         xslices=range(132, 133), yslices=range(142, 143),\n         zslices=range(96, 97), title=\"Connected Threshold\")"
      ], 
      "outputs": [], 
      "metadata": {
        "collapsed": false
      }
    }, 
    {
      "source": [
        "``ConfidenceConnected``\n^^^^^^^^^^^^^^^^^^^^^^^\n\n\nUnlike in ``ConnectedThreshold``, you need not select the bounds in\n``ConfidenceConnected`` filter. Bounds are implicitly specified as\n$\\mu\\pm c\\sigma$, where $\\mu$ is the mean intensity of the seed\npoints, $\\sigma$ their standard deviation and $c$ a user specified\nconstant.\n\nThis algorithm has some flexibility which you should familiarize yourself with:\n\n* The ``multiplier`` parameter is the constant $c$ from the formula above.\n* You can specify a region around each seed point ``initialNeighborhoodRadius``\n  from which the statistics are estimated, see what happens when you set it to zero.\n* The ``numberOfIterations`` allows you to rerun the algorithm. In the first\n  run the bounds are defined by the seed voxels you specified, in the\n  following iterations $\\mu$ and $\\sigma$ are estimated from\n  the segmented points and the region growing is updated accordingly.\n\n"
      ], 
      "cell_type": "markdown", 
      "metadata": {}
    }, 
    {
      "execution_count": null, 
      "cell_type": "code", 
      "source": [
        "seg_conf = sitk.ConfidenceConnected(img_T1, seedList=[seed],\n                                    numberOfIterations=1,\n                                    multiplier=2.5,\n                                    initialNeighborhoodRadius=1,\n                                    replaceValue=1)\n\nmyshow3d(sitk.LabelOverlay(img_T1_255, seg_conf),\n         xslices=range(132, 133), yslices=range(142, 143),\n         zslices=range(96, 97), title=\"ConfidenceConnected\")"
      ], 
      "outputs": [], 
      "metadata": {
        "collapsed": false
      }
    }, 
    {
      "source": [
        "``VectorConfidenceConnected``\n^^^^^^^^^^^^^^^^^^^^^^^^^^^^^\nA generalization of the previous approach to vector valued images,\nfor instance multi-spectral images or multi-parametric MRI.\nHere, The bounds for neighboring voxel's intensity vector is 2implicitly\nspecified bounds using the Mahalanobis distance\n$\\sqrt{(\\mathbf{x}-\\mathbf{\\mu})^T\\Sigma^{-1}(\\mathbf{x}-\\mathbf{\\mu})}<c$,\nwhere $\\mathbf{\\mu}$ is the mean of the vectors at the seed points,\n$\\Sigma$ is the covariance matrix and $c$ is a user specified\nconstant.\n\nLet's load a T2 image from the same person and combine it with the T1\nimage to create a vector image and apply the algorithm on it.\n\n"
      ], 
      "cell_type": "markdown", 
      "metadata": {}
    }, 
    {
      "execution_count": null, 
      "cell_type": "code", 
      "source": [
        "img_T2 = sitk.ReadImage(\n    fdata(\"nac-hncma-atlas2013-Slicer4Version/Data/A1_grayT2.nrrd\"))\nimg_T2_255 = sitk.Cast(sitk.RescaleIntensity(img_T2), sitk.sitkUInt8)\n\n\nimg_multi = sitk.Compose(img_T1, img_T2)\nseg_vec = sitk.VectorConfidenceConnected(img_multi, seedList=[seed],\n                                         numberOfIterations=1,\n                                         multiplier=4,\n                                         initialNeighborhoodRadius=1)\n\nmyshow3d(sitk.LabelOverlay(img_T2_255, seg_vec),\n         xslices=range(132, 133), yslices=range(142, 143),\n         zslices=range(96, 97), title=\"VectorConfidenceConnected\")"
      ], 
      "outputs": [], 
      "metadata": {
        "collapsed": false
      }
    }, 
    {
      "source": [
        "Clean up, clean up\n------------------\n\nUse of low level segmentation algorithms such as region growing is often followed by a clean up step. In this step we fill holes and remove small connected components. Both of these operations are achieved by using binary morphological operations, opening (``BinaryMorphologicalOpening``) to remove small connected components and closing (``BinaryMorphologicalClosing``) to fill holes.\n\nSimpleITK supports several shapes for the structuring elements (kernels) including:\n\n- sitkAnnulus\n- sitkBall\n- sitkBox\n- sitkCross\n\nThe size of the kernel can be specified as a scalar (same for all dimensions) or as a vector of values, size per dimension.\n\nThe following code illustrates the results of such a clean up, using\nclosing to remove holes in the original segmentation.\n\n"
      ], 
      "cell_type": "markdown", 
      "metadata": {}
    }, 
    {
      "execution_count": null, 
      "cell_type": "code", 
      "source": [
        "vectorRadius = (1, 1, 1)\nkernel = sitk.sitkBall\nseg_clean = sitk.BinaryMorphologicalClosing(seg_vec,\n                                            vectorRadius,\n                                            kernel)\n\nmyshow3d(sitk.LabelOverlay(img_T1_255, seg_clean),\n         xslices=range(132, 133), yslices=range(142, 143),\n         zslices=range(96, 97), title=\"Cleaned up segmentation\")"
      ], 
      "outputs": [], 
      "metadata": {
        "collapsed": false
      }
    }
  ], 
  "metadata": {
    "kernelspec": {
      "display_name": "Python 2", 
      "name": "python2", 
      "language": "python"
    }, 
    "language_info": {
      "mimetype": "text/x-python", 
      "nbconvert_exporter": "python", 
      "name": "python", 
      "file_extension": ".py", 
      "version": "2.7.6", 
      "pygments_lexer": "ipython2", 
      "codemirror_mode": {
        "version": 2, 
        "name": "ipython"
      }
    }
  }
}